{
 "cells": [
  {
   "cell_type": "code",
   "execution_count": 25,
   "metadata": {},
   "outputs": [],
   "source": [
    "import numpy as np"
   ]
  },
  {
   "cell_type": "code",
   "execution_count": 40,
   "metadata": {},
   "outputs": [
    {
     "name": "stdout",
     "output_type": "stream",
     "text": [
      "<circle cx=\"248.000\" cy=\"184\" r=\"64\" stroke=\"gold\" stroke-width=\"3\" fill=\"None\"/>\n",
      "<circle cx=\"137.149\" cy=\"312\" r=\"64\" stroke=\"gold\" stroke-width=\"3\" fill=\"None\"/>\n",
      "<circle cx=\"137.149\" cy=\"248\" r=\"64\" stroke=\"gold\" stroke-width=\"3\" fill=\"None\"/>\n",
      "<circle cx=\"358.851\" cy=\"312\" r=\"64\" stroke=\"gold\" stroke-width=\"3\" fill=\"None\"/>\n",
      "<circle cx=\"303.426\" cy=\"344\" r=\"64\" stroke=\"gold\" stroke-width=\"3\" fill=\"None\"/>\n",
      "<circle cx=\"303.426\" cy=\"152\" r=\"64\" stroke=\"gold\" stroke-width=\"3\" fill=\"None\"/>\n",
      "<circle cx=\"303.426\" cy=\"280\" r=\"64\" stroke=\"gold\" stroke-width=\"3\" fill=\"None\"/>\n",
      "<circle cx=\"192.574\" cy=\"280\" r=\"64\" stroke=\"gold\" stroke-width=\"3\" fill=\"None\"/>\n",
      "<circle cx=\"192.574\" cy=\"152\" r=\"64\" stroke=\"gold\" stroke-width=\"3\" fill=\"None\"/>\n",
      "<circle cx=\"192.574\" cy=\"216\" r=\"64\" stroke=\"gold\" stroke-width=\"3\" fill=\"None\"/>\n",
      "<circle cx=\"358.851\" cy=\"248\" r=\"64\" stroke=\"gold\" stroke-width=\"3\" fill=\"None\"/>\n",
      "<circle cx=\"358.851\" cy=\"184\" r=\"64\" stroke=\"gold\" stroke-width=\"3\" fill=\"None\"/>\n",
      "<circle cx=\"137.149\" cy=\"184\" r=\"64\" stroke=\"gold\" stroke-width=\"3\" fill=\"None\"/>\n",
      "<circle cx=\"303.426\" cy=\"216\" r=\"64\" stroke=\"gold\" stroke-width=\"3\" fill=\"None\"/>\n",
      "<circle cx=\"192.574\" cy=\"344\" r=\"64\" stroke=\"gold\" stroke-width=\"3\" fill=\"None\"/>\n",
      "<circle cx=\"248.000\" cy=\"120\" r=\"64\" stroke=\"gold\" stroke-width=\"3\" fill=\"None\"/>\n",
      "<circle cx=\"248.000\" cy=\"376\" r=\"64\" stroke=\"gold\" stroke-width=\"3\" fill=\"None\"/>\n",
      "<circle cx=\"248.000\" cy=\"312\" r=\"64\" stroke=\"gold\" stroke-width=\"3\" fill=\"None\"/>\n",
      "<circle cx=\"248.000\" cy=\"248\" r=\"64\" stroke=\"gold\" stroke-width=\"3\" fill=\"None\"/>\n"
     ]
    }
   ],
   "source": [
    "r = 64      # radius\n",
    "Y = 248    # y origin\n",
    "X = 248    # x origin\n",
    "width = 3\n",
    "color = \"gold\"\n",
    "\n",
    "y_offset = [-r, -r*np.cos(np.deg2rad(60)), r*np.cos(np.deg2rad(60)), r, r*np.cos(np.deg2rad(60)), -r*np.cos(np.deg2rad(60))] # start: top, direction clockwise\n",
    "x_offset = [0, r*np.sin(np.deg2rad(60)), r*np.sin(np.deg2rad(60)), 0, -r*np.sin(np.deg2rad(60)), -r*np.sin(np.deg2rad(60))] # start: top, direction: clockwise\n",
    "\n",
    "inner_circles = [f'<circle cx=\"{x+X+x0:.3f}\" cy=\"{int(y+Y+y0)}\" r=\"{r}\" stroke=\"{color}\" stroke-width=\"{width}\" fill=\"None\"/>' for x0,y0 in zip(x_offset, y_offset) for x,y in zip(x_offset, y_offset)]\n",
    "\n",
    "for s in set(inner_circles):\n",
    "    print(s)"
   ]
  },
  {
   "cell_type": "code",
   "execution_count": 38,
   "metadata": {},
   "outputs": [
    {
     "name": "stdout",
     "output_type": "stream",
     "text": [
      "<circle cx=\"248.000\" cy=\"184\" r=\"64\" stroke=\"gold\" stroke-width=\"3\" fill=\"None\"/>\n",
      "<circle cx=\"137.149\" cy=\"312\" r=\"64\" stroke=\"gold\" stroke-width=\"3\" fill=\"None\"/>\n",
      "<circle cx=\"137.149\" cy=\"248\" r=\"64\" stroke=\"gold\" stroke-width=\"3\" fill=\"None\"/>\n",
      "<circle cx=\"358.851\" cy=\"312\" r=\"64\" stroke=\"gold\" stroke-width=\"3\" fill=\"None\"/>\n",
      "<circle cx=\"303.426\" cy=\"344\" r=\"64\" stroke=\"gold\" stroke-width=\"3\" fill=\"None\"/>\n",
      "<circle cx=\"303.426\" cy=\"152\" r=\"64\" stroke=\"gold\" stroke-width=\"3\" fill=\"None\"/>\n",
      "<circle cx=\"303.426\" cy=\"280\" r=\"64\" stroke=\"gold\" stroke-width=\"3\" fill=\"None\"/>\n",
      "<circle cx=\"192.574\" cy=\"280\" r=\"64\" stroke=\"gold\" stroke-width=\"3\" fill=\"None\"/>\n",
      "<circle cx=\"192.574\" cy=\"152\" r=\"64\" stroke=\"gold\" stroke-width=\"3\" fill=\"None\"/>\n",
      "<circle cx=\"192.574\" cy=\"216\" r=\"64\" stroke=\"gold\" stroke-width=\"3\" fill=\"None\"/>\n",
      "<circle cx=\"358.851\" cy=\"248\" r=\"64\" stroke=\"gold\" stroke-width=\"3\" fill=\"None\"/>\n",
      "<circle cx=\"358.851\" cy=\"184\" r=\"64\" stroke=\"gold\" stroke-width=\"3\" fill=\"None\"/>\n",
      "<circle cx=\"137.149\" cy=\"184\" r=\"64\" stroke=\"gold\" stroke-width=\"3\" fill=\"None\"/>\n",
      "<circle cx=\"303.426\" cy=\"216\" r=\"64\" stroke=\"gold\" stroke-width=\"3\" fill=\"None\"/>\n",
      "<circle cx=\"192.574\" cy=\"344\" r=\"64\" stroke=\"gold\" stroke-width=\"3\" fill=\"None\"/>\n",
      "<circle cx=\"248.000\" cy=\"120\" r=\"64\" stroke=\"gold\" stroke-width=\"3\" fill=\"None\"/>\n",
      "<circle cx=\"248.000\" cy=\"376\" r=\"64\" stroke=\"gold\" stroke-width=\"3\" fill=\"None\"/>\n",
      "<circle cx=\"248.000\" cy=\"312\" r=\"64\" stroke=\"gold\" stroke-width=\"3\" fill=\"None\"/>\n",
      "<circle cx=\"248.000\" cy=\"248\" r=\"64\" stroke=\"gold\" stroke-width=\"3\" fill=\"None\"/>\n"
     ]
    }
   ],
   "source": [
    "circle_format = '<circle cx=\"{:.3f}\" cy=\"{}\" r=\"{}\" stroke=\"{}\" stroke-width=\"{}\" fill=\"None\"/>'\n",
    "\n",
    "test = [circle_format.format(X+x+x0, int(Y+y+y0), r, color, width) for x0, y0 in zip(x_offset, y_offset) for x, y in zip(x_offset, y_offset)]\n",
    "\n",
    "for s in set(test):\n",
    "    print(s)"
   ]
  },
  {
   "cell_type": "code",
   "execution_count": null,
   "metadata": {},
   "outputs": [],
   "source": []
  }
 ],
 "metadata": {
  "kernelspec": {
   "display_name": "Python 3",
   "language": "python",
   "name": "python3"
  },
  "language_info": {
   "codemirror_mode": {
    "name": "ipython",
    "version": 3
   },
   "file_extension": ".py",
   "mimetype": "text/x-python",
   "name": "python",
   "nbconvert_exporter": "python",
   "pygments_lexer": "ipython3",
   "version": "3.10.12"
  }
 },
 "nbformat": 4,
 "nbformat_minor": 2
}
